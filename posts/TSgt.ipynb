{
 "cells": [
  {
   "cell_type": "raw",
   "id": "840b1451-3ad0-4e28-b815-658360c61433",
   "metadata": {},
   "source": [
    "---\n",
    "title: \"TS_23.2\"\n",
    "author: \"김보람\"\n",
    "date: \"03/03/2024\"\n",
    "---"
   ]
  },
  {
   "cell_type": "markdown",
   "id": "d65c48da-ff1b-412f-90c7-3ee1b769a5e5",
   "metadata": {},
   "source": [
    "# 1"
   ]
  },
  {
   "cell_type": "markdown",
   "id": "0294a6cf-6999-4ca1-a3d5-65c23e4517c2",
   "metadata": {},
   "source": [
    "$X_1,\\dots, X_n$는 $Ber(p)$분포로부터 랜덤표본"
   ]
  },
  {
   "cell_type": "markdown",
   "id": "faab03f3-3bd8-4b71-b4c4-4bb2e8bc504f",
   "metadata": {},
   "source": [
    "## (a) 결합확률밀도함수"
   ]
  },
  {
   "cell_type": "markdown",
   "id": "f1830a89-7e35-488d-8738-62a94576057f",
   "metadata": {},
   "source": [
    "$f(x:p) = \\Pi_{i=1}^n p^x(1-p)^{1-x}, x=0,1$"
   ]
  },
  {
   "cell_type": "markdown",
   "id": "1676ba69-2aab-4f04-973d-ed6825438814",
   "metadata": {},
   "source": [
    "$=p^{\\sum_{i=1}^n x_i} (1-p)^{n-\\sum_{i=1}^n x_i}$"
   ]
  },
  {
   "cell_type": "markdown",
   "id": "c9fb7ded-b5c1-407b-b2c5-b852c6907dbc",
   "metadata": {},
   "source": [
    "## (b) p(1-p)에 대한 최대가능도추정량"
   ]
  },
  {
   "cell_type": "markdown",
   "id": "cdbe94af-520c-4474-ae99-9cd9ee6c0989",
   "metadata": {},
   "source": [
    "$L(p) = p^{\\sum_{i=1}^n x_i} (1-p)^{n-\\sum_{i=1}^n x_i}$\n",
    "\n",
    "$l(p) = \\sum_{i=1}^n x_i log p + (n-\\sum_{i=1}^n x_i)log (1-p)$\n",
    "\n",
    "$l'(p) = \\dfrac{\\sum_{i=1}^n x_i}{p} - \\dfrac{n-\\sum_{i=1}^n x_i}{1-p}=0$이 되는 p값\n",
    "\n",
    "$\\hat p = \\bar X$"
   ]
  },
  {
   "cell_type": "markdown",
   "id": "acb3a4e9-ec3b-4e3e-974a-2eca961f509e",
   "metadata": {},
   "source": [
    "$\\hat p (1- \\hat p) = \\bar X(1- \\bar X)$"
   ]
  },
  {
   "cell_type": "markdown",
   "id": "e331c584-9f95-482e-87c8-c1cf58a381a9",
   "metadata": {},
   "source": [
    "## (c) $X_1(1-X_2)$의 기댓값"
   ]
  },
  {
   "cell_type": "markdown",
   "id": "9a8bda53-e46f-4697-82d9-9fe44a4fb17d",
   "metadata": {},
   "source": [
    "$E(X_1(1-X_2)) = E(X_1)-E(X_1 X_2) = E(X_1) - E(X_1)E(X_2) = p - p^2 = p(1-p)$"
   ]
  },
  {
   "cell_type": "markdown",
   "id": "b1a6d801-fffd-4c41-95f0-ac201e075a5a",
   "metadata": {},
   "source": [
    "랜덤표본이므로..독립"
   ]
  },
  {
   "cell_type": "markdown",
   "id": "83212dc2-2167-4ebd-b178-09744f4431a4",
   "metadata": {},
   "source": [
    "## (d) $E[X_1(1-X_2)|\\sum_{i=1}^n X_i = t]$"
   ]
  },
  {
   "cell_type": "markdown",
   "id": "73888efe-053f-47da-9174-38c42402f21d",
   "metadata": {},
   "source": [
    "## (e) $p=\\dfrac{1}{2}$일 때 점근분포"
   ]
  },
  {
   "cell_type": "markdown",
   "id": "3bfc705b-e49d-426e-a84e-827acd470e7f",
   "metadata": {},
   "source": [
    "## (f)"
   ]
  },
  {
   "cell_type": "markdown",
   "id": "901663ca-0543-4a7f-93ea-21f3b8262b2d",
   "metadata": {},
   "source": [
    "가설 $H_0: p= \\dfrac{1}{2} \\ \\text{vs} \\ H_1: p \\neq \\dfrac{1}{2}$일 때 일반화 가능도비를 이용해 기각 영역 제시"
   ]
  },
  {
   "cell_type": "markdown",
   "id": "f83c8b9d-fde3-4825-a38b-88168fe55233",
   "metadata": {},
   "source": [
    "# 2"
   ]
  },
  {
   "cell_type": "markdown",
   "id": "eef7d596-a3e3-4577-9f88-ebdac88510c7",
   "metadata": {},
   "source": [
    "$Y_i \\sim Ber(p_i)$일 때, $\\text{logit} (p_i) = \\text{log}(\\dfrac{p}{1-p})$에 공변량 $x_i$를 더한 것으로 표현 가능하다. 즉, $\\text{logit}("
   ]
  },
  {
   "cell_type": "code",
   "execution_count": null,
   "id": "5b69e8ee-e0b1-42c8-af4a-66754482a947",
   "metadata": {},
   "outputs": [],
   "source": []
  }
 ],
 "metadata": {
  "kernelspec": {
   "display_name": "Python 3 (ipykernel)",
   "language": "python",
   "name": "python3"
  },
  "language_info": {
   "codemirror_mode": {
    "name": "ipython",
    "version": 3
   },
   "file_extension": ".py",
   "mimetype": "text/x-python",
   "name": "python",
   "nbconvert_exporter": "python",
   "pygments_lexer": "ipython3",
   "version": "3.8.18"
  }
 },
 "nbformat": 4,
 "nbformat_minor": 5
}
