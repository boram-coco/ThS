{
 "cells": [
  {
   "cell_type": "raw",
   "id": "840b1451-3ad0-4e28-b815-658360c61433",
   "metadata": {},
   "source": [
    "---\n",
    "title: \"TS_23.2\"\n",
    "author: \"김보람\"\n",
    "date: \"03/03/2024\"\n",
    "---"
   ]
  },
  {
   "cell_type": "markdown",
   "id": "d65c48da-ff1b-412f-90c7-3ee1b769a5e5",
   "metadata": {},
   "source": [
    "# 1"
   ]
  },
  {
   "cell_type": "markdown",
   "id": "0294a6cf-6999-4ca1-a3d5-65c23e4517c2",
   "metadata": {},
   "source": [
    "$X_1,\\dots, X_n$는 $Ber(p)$분포로부터 랜덤표본"
   ]
  },
  {
   "cell_type": "markdown",
   "id": "faab03f3-3bd8-4b71-b4c4-4bb2e8bc504f",
   "metadata": {},
   "source": [
    "## (a) 결합확률밀도함수"
   ]
  },
  {
   "cell_type": "markdown",
   "id": "f1830a89-7e35-488d-8738-62a94576057f",
   "metadata": {},
   "source": [
    "$f(x:p) = \\Pi_{i=1}^n p^x(1-p)^{1-x}, x=0,1$"
   ]
  },
  {
   "cell_type": "markdown",
   "id": "1676ba69-2aab-4f04-973d-ed6825438814",
   "metadata": {},
   "source": [
    "$=p^{\\sum_{i=1}^n x_i} (1-p)^{n-\\sum_{i=1}^n x_i}$"
   ]
  },
  {
   "cell_type": "markdown",
   "id": "c9fb7ded-b5c1-407b-b2c5-b852c6907dbc",
   "metadata": {},
   "source": [
    "## (b) p(1-p)에 대한 최대가능도추정량"
   ]
  },
  {
   "cell_type": "markdown",
   "id": "cdbe94af-520c-4474-ae99-9cd9ee6c0989",
   "metadata": {},
   "source": [
    "$L(p) = p^{\\sum_{i=1}^n x_i} (1-p)^{n-\\sum_{i=1}^n x_i}$\n",
    "\n",
    "$l(p) = \\sum_{i=1}^n x_i log p + (n-\\sum_{i=1}^n x_i)log (1-p)$\n",
    "\n",
    "$l'(p) = \\dfrac{\\sum_{i=1}^n x_i}{p} - \\dfrac{n-\\sum_{i=1}^n x_i}{1-p}=0$이 되는 p값\n",
    "\n",
    "$\\hat p = \\bar X$"
   ]
  },
  {
   "cell_type": "markdown",
   "id": "74b6a5c1-1463-48b0-958d-9c2c16a9818a",
   "metadata": {},
   "source": [
    "$\\hat p (1- \\hat p) = \\bar X(1- \\bar X)$"
   ]
  },
  {
   "cell_type": "markdown",
   "id": "e331c584-9f95-482e-87c8-c1cf58a381a9",
   "metadata": {},
   "source": [
    "## (c) $X_1(1-X_2)$의 기댓값"
   ]
  },
  {
   "cell_type": "markdown",
   "id": "9a8bda53-e46f-4697-82d9-9fe44a4fb17d",
   "metadata": {},
   "source": [
    "$E(X_1(1-X_2)) = E(X_1)-E(X_1 X_2) = E(X_1) - E(X_1)E(X_2) = p - p^2 = p(1-p)$"
   ]
  },
  {
   "cell_type": "markdown",
   "id": "b1a6d801-fffd-4c41-95f0-ac201e075a5a",
   "metadata": {},
   "source": [
    "랜덤표본이므로..독립"
   ]
  },
  {
   "cell_type": "markdown",
   "id": "83212dc2-2167-4ebd-b178-09744f4431a4",
   "metadata": {},
   "source": [
    "## (d) $E[X_1(1-X_2)|\\sum_{i=1}^n X_i = t]$ $\\star$ 모르겠땅"
   ]
  },
  {
   "cell_type": "markdown",
   "id": "93ae021e-7212-4931-9b36-788dbaaef27e",
   "metadata": {},
   "source": [
    "완비충분통계량이용"
   ]
  },
  {
   "cell_type": "markdown",
   "id": "6748fef0-c5e4-41b6-9606-2c05d14d839a",
   "metadata": {},
   "source": [
    "완비충분통계량은 확률변수 분포에 대한 모든 정보를 갖고 있는 충분통계량"
   ]
  },
  {
   "cell_type": "markdown",
   "id": "42624d92-d299-413a-90b6-555159dd770d",
   "metadata": {},
   "source": [
    "베르누이 분포는 $X_1 + \\dots + X_n$이 모수 $\\hat p$에 대한 충분통계량이며 완비성을 가짐"
   ]
  },
  {
   "cell_type": "markdown",
   "id": "190f7d48-0a04-40a8-9af0-bf7ed2f9d879",
   "metadata": {},
   "source": [
    "$T=\\sum X_i$"
   ]
  },
  {
   "cell_type": "markdown",
   "id": "78b8cea3-5705-4a32-a7c9-4f5ee60509d5",
   "metadata": {},
   "source": [
    "$E(X_1(1-X_2)|T=t) = E(X_1|T=t) E(1-X_2|T=t)$"
   ]
  },
  {
   "cell_type": "markdown",
   "id": "1cfeafe8-62e7-4c7d-b041-58cb81905a86",
   "metadata": {},
   "source": [
    "$P(T=t)$는 이항분포"
   ]
  },
  {
   "cell_type": "code",
   "execution_count": null,
   "id": "a3cd8535-f606-4e67-a172-9fdc09cd5a7d",
   "metadata": {},
   "outputs": [],
   "source": []
  },
  {
   "cell_type": "code",
   "execution_count": null,
   "id": "cb99be3a-4ed7-4fa7-9d38-519cdb6b3d6b",
   "metadata": {},
   "outputs": [],
   "source": []
  },
  {
   "cell_type": "markdown",
   "id": "73888efe-053f-47da-9174-38c42402f21d",
   "metadata": {},
   "source": [
    "## (e) $p=\\dfrac{1}{2}$일 때 점근분포 $\\star$ 모르겠땅"
   ]
  },
  {
   "cell_type": "markdown",
   "id": "1d5479f0-ef0f-47bf-a7d5-fbde2fa50c80",
   "metadata": {},
   "source": [
    "$\\sqrt{n}(\\hat p - p) \\rightarrow N(0,\\dfrac{1}{I(p)})$"
   ]
  },
  {
   "cell_type": "markdown",
   "id": "53031901-f6ff-4767-9318-57adde643ee9",
   "metadata": {},
   "source": [
    "p=1/2이면.. var(x)=1/4이고...\n",
    "\n",
    "I(p)=4"
   ]
  },
  {
   "cell_type": "markdown",
   "id": "373665ca-756c-4094-89e7-39f257d83df8",
   "metadata": {},
   "source": [
    "그럼..N(0,4)인가.."
   ]
  },
  {
   "cell_type": "markdown",
   "id": "3bfc705b-e49d-426e-a84e-827acd470e7f",
   "metadata": {},
   "source": [
    "## (f) $\\star$ 모르겠땅"
   ]
  },
  {
   "cell_type": "markdown",
   "id": "901663ca-0543-4a7f-93ea-21f3b8262b2d",
   "metadata": {},
   "source": [
    "가설 $H_0: p= \\dfrac{1}{2} \\ \\text{vs} \\ H_1: p \\neq \\dfrac{1}{2}$일 때 일반화 가능도비를 이용해 기각 영역 제시"
   ]
  },
  {
   "cell_type": "markdown",
   "id": "8a407ad7-4694-497a-8521-7cba73abc4c6",
   "metadata": {},
   "source": [
    "$L(p) = p^{\\sum_{i=1}^n x_i} (1-p)^{n-\\sum_{i=1}^n x_i}$\n",
    "\n",
    "$\\Lambda = \\dfrac{L(p_0)}{L(p)} = \\dfrac{((1/2)^{\\sum_{i=1}^n x_i} (1/2)^{n-\\sum_{i=1}^n x_i}}{\\bar X^{\\sum_{i=1}^n x_i} (1-\\bar X)^{n-\\sum_{i=1}^n x_i}}$"
   ]
  },
  {
   "cell_type": "markdown",
   "id": "7f9afd28-c89f-4cf7-86b2-7b4bb2066fc0",
   "metadata": {},
   "source": [
    "$-2log \\Lambda = -2(log(1/2)^n - log(\\bar X^{\\sum_{i=1}^n x_i} (1-\\bar X)^{n-\\sum_{i=1}^n x_i}) = -2(-nlog2 - \\sum x log \\bar X - (n- \\sum x) log(1- \\bar X)) \\geq C$"
   ]
  },
  {
   "cell_type": "code",
   "execution_count": null,
   "id": "0348ad86-37d3-4578-a9cc-dcf04513d603",
   "metadata": {},
   "outputs": [],
   "source": []
  },
  {
   "cell_type": "markdown",
   "id": "f83c8b9d-fde3-4825-a38b-88168fe55233",
   "metadata": {},
   "source": [
    "# 2"
   ]
  },
  {
   "cell_type": "markdown",
   "id": "eef7d596-a3e3-4577-9f88-ebdac88510c7",
   "metadata": {},
   "source": [
    "$Y_i \\sim Ber(p_i)$일 때, $\\text{logit} (p_i) = \\text{log}(\\dfrac{p}{1-p})$에 공변량 $x_i$를 더한 것으로 표현 가능하다. 즉, $\\text{logit}(p_i) = \\alpha + \\beta x_i$의 선형결합 형태이다. 최대가능도 추정량을 이용해 구체적으로 설명"
   ]
  },
  {
   "cell_type": "markdown",
   "id": "25389016-ffab-4fd5-974a-e1cfab91ba84",
   "metadata": {},
   "source": [
    "$P(Y_i = y_i) = p_i^{y_i} (1-p_i)^{1-y_i}$"
   ]
  },
  {
   "cell_type": "markdown",
   "id": "cfa845d6-5ff5-4683-ae01-48bca6a6a215",
   "metadata": {},
   "source": [
    "최대가능도추정량\n",
    "\n",
    "$l(\\alpha,\\beta) = \\sum [y log(p) + (1-y)log(1-p)]$"
   ]
  },
  {
   "cell_type": "markdown",
   "id": "1018010c-cf31-4d91-a1c8-08503ef9f49d",
   "metadata": {},
   "source": [
    "$logit(p) = \\alpha + \\beta x$\n",
    "\n",
    "$logit(p) = log(\\dfrac{p}{1-p})$"
   ]
  },
  {
   "cell_type": "code",
   "execution_count": null,
   "id": "ebabb516-6f98-4b49-bd0b-1198cbcbfcd0",
   "metadata": {},
   "outputs": [],
   "source": []
  },
  {
   "cell_type": "markdown",
   "id": "ede6754b-6080-4378-8156-34da4f86d634",
   "metadata": {},
   "source": [
    "위 두개 식을 정리하면, $p=\\dfrac{e^{\\alpha+\\beta x}}{1+e^{\\alpha+\\beta x}}=\\dfrac{1}{1+e^{-(\\alpha+\\beta x)}}$"
   ]
  },
  {
   "cell_type": "code",
   "execution_count": null,
   "id": "23183df7-f4dd-410e-8698-96cd3bed46ae",
   "metadata": {},
   "outputs": [],
   "source": []
  }
 ],
 "metadata": {
  "kernelspec": {
   "display_name": "Python 3 (ipykernel)",
   "language": "python",
   "name": "python3"
  },
  "language_info": {
   "codemirror_mode": {
    "name": "ipython",
    "version": 3
   },
   "file_extension": ".py",
   "mimetype": "text/x-python",
   "name": "python",
   "nbconvert_exporter": "python",
   "pygments_lexer": "ipython3",
   "version": "3.8.18"
  }
 },
 "nbformat": 4,
 "nbformat_minor": 5
}
