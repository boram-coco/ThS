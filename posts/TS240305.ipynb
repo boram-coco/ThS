{
 "cells": [
  {
   "cell_type": "raw",
   "id": "62d26142-f4aa-4436-9346-c2c1347a730c",
   "metadata": {},
   "source": [
    "---\n",
    "title: \"TS_24.2\"\n",
    "author: \"김보람\"\n",
    "date: \"03/05/2024\"\n",
    "---"
   ]
  },
  {
   "cell_type": "markdown",
   "id": "66e1098b-e48a-41eb-92b7-d24b06ebad1f",
   "metadata": {},
   "source": [
    "# 1"
   ]
  },
  {
   "cell_type": "markdown",
   "id": "64b8a627-6374-434e-b48b-ac52420db2f9",
   "metadata": {},
   "source": [
    "$f(x) = \\lambda e^{-\\lambda x} I(x>0)$"
   ]
  },
  {
   "cell_type": "markdown",
   "id": "50864267-a665-4b7c-9345-c7c11ae4cf08",
   "metadata": {},
   "source": [
    "## (1)"
   ]
  },
  {
   "cell_type": "markdown",
   "id": "f1a89cba-e242-4374-807a-bb764bad7a2d",
   "metadata": {},
   "source": [
    "$p_1 = P(X>1)$"
   ]
  },
  {
   "cell_type": "code",
   "execution_count": null,
   "id": "8303774e-929c-4453-bd7a-a1c20a55b268",
   "metadata": {},
   "outputs": [],
   "source": []
  },
  {
   "cell_type": "markdown",
   "id": "6c991b82-71bc-4552-a828-ecc274d047ab",
   "metadata": {},
   "source": [
    "---> $\\int_1^\\infty \\lambda e ^{-\\lambda x}I(x>0)=e^{-\\lambda}$"
   ]
  },
  {
   "cell_type": "markdown",
   "id": "3f9dc918-1330-402b-981b-b536db5b61c2",
   "metadata": {},
   "source": [
    "## (2)"
   ]
  },
  {
   "cell_type": "markdown",
   "id": "02f9c0ef-5f36-4b75-8912-8ca47808cf9f",
   "metadata": {},
   "source": [
    "$\\hat p_1$의 최대가능도추정량"
   ]
  },
  {
   "cell_type": "markdown",
   "id": "28279eb8-1580-470f-9d5c-cc047dd29404",
   "metadata": {},
   "source": [
    "$e^{-\\lambda}$"
   ]
  },
  {
   "cell_type": "markdown",
   "id": "09fd3ae9-e110-405c-904d-153642f5efeb",
   "metadata": {},
   "source": [
    "f(x)의 최대가능도추정량\n",
    "\n",
    "$L(x) = \\lambda^n e^{-\\lambda \\sum x}$"
   ]
  },
  {
   "cell_type": "markdown",
   "id": "f0f06e17-c19c-4111-9398-19c65313ff46",
   "metadata": {},
   "source": [
    "$l(x) = n log \\lambda - \\lambda \\sum x$"
   ]
  },
  {
   "cell_type": "markdown",
   "id": "25a4dd10-8abf-4137-a516-6c0524a23f9e",
   "metadata": {},
   "source": [
    "$l'(x) = \\dfrac{n}{\\lambda} - \\sum x = 0$"
   ]
  },
  {
   "cell_type": "markdown",
   "id": "e9ec0e01-7170-4750-8155-1b771a6d6af7",
   "metadata": {},
   "source": [
    "$\\rightarrow n - \\hat \\lambda \\sum x = 0$\n",
    "\n",
    "$\\rightarrow \\hat \\lambda = \\dfrac{n}{\\sum x} = \\dfrac{1}{\\bar X}$"
   ]
  },
  {
   "cell_type": "markdown",
   "id": "ce62032d-cd0f-4350-a8e6-9f79feb41500",
   "metadata": {},
   "source": [
    "$e^{-\\hat \\lambda} = e^{\\bar X}$"
   ]
  },
  {
   "cell_type": "code",
   "execution_count": null,
   "id": "b19ca6f0-a609-4024-9156-c07aee176a51",
   "metadata": {},
   "outputs": [],
   "source": []
  },
  {
   "cell_type": "markdown",
   "id": "239f2352-14da-493f-8626-ba64cc45db7f",
   "metadata": {},
   "source": [
    "## (3)"
   ]
  },
  {
   "cell_type": "markdown",
   "id": "761caea5-4696-4b2c-adeb-aae4bb940518",
   "metadata": {},
   "source": [
    "$\\hat p_1$의 기댓값"
   ]
  },
  {
   "cell_type": "markdown",
   "id": "3a2f70d1-b25c-45f7-93c2-254723b6ca9c",
   "metadata": {},
   "source": [
    "$E(\\hat p_1) = E(e^{\\bar X}) = e^{E(ln^{e^{\\bar X}})} = e^{E(\\bar X)}$"
   ]
  },
  {
   "cell_type": "markdown",
   "id": "4b2d3ee5-82fc-4037-8782-10f598179fdd",
   "metadata": {},
   "source": [
    "$E(\\bar X) = E(X)$"
   ]
  },
  {
   "cell_type": "markdown",
   "id": "115f36f9-498c-4418-a4d1-0d82d0f2494f",
   "metadata": {},
   "source": [
    "$E(X) = \\int_{-\\infty}^{\\infty} x f(x)dx$"
   ]
  },
  {
   "cell_type": "markdown",
   "id": "814a0faf-e077-453e-b7a4-e866ffc9a004",
   "metadata": {},
   "source": [
    "## (4)"
   ]
  },
  {
   "cell_type": "markdown",
   "id": "3bfa3ef8-1bf8-4def-bbcd-0a4b311ba444",
   "metadata": {},
   "source": [
    "$\\hat p_1$의 점근분포"
   ]
  },
  {
   "cell_type": "markdown",
   "id": "a97ac495-411d-476e-98a5-714a5218e94b",
   "metadata": {},
   "source": [
    "## (5)"
   ]
  },
  {
   "cell_type": "markdown",
   "id": "323509c6-8628-4495-8e2e-23aef433d323",
   "metadata": {},
   "source": [
    "$ H_0: \\lambda = 1 $ 가능도비 검정"
   ]
  },
  {
   "cell_type": "markdown",
   "id": "03fbb9d9-fa51-4c10-a0f1-5732ebff219c",
   "metadata": {},
   "source": [
    "# 2"
   ]
  },
  {
   "cell_type": "markdown",
   "id": "9e925977-781c-4775-978b-126d120b0260",
   "metadata": {},
   "source": [
    "$X_i \\sim Ber(p)$이고 $\\sum Y = \\bar X$ <- y이게맞나 기억이 잘."
   ]
  },
  {
   "cell_type": "markdown",
   "id": "3e1f205c-2fd9-42b7-bd2c-db9d28acd6e5",
   "metadata": {},
   "source": [
    "$\\sqrt{n}(\\bar Y(1-\\bar Y) - p(1-p)) \\sim N(0, p(1-p)(1-2p)^2)$임을 증명"
   ]
  },
  {
   "cell_type": "markdown",
   "id": "136b8565-bfac-4214-bca0-21b91b7e919f",
   "metadata": {},
   "source": [
    "$\\sqrt{n}(g(\\hat \\theta) - g(\\theta_0)) \\sim N(0, \\dfrac{(g'(\\theta))^2}{I(\\theta)})$ 델타분포이용"
   ]
  },
  {
   "cell_type": "markdown",
   "id": "0df58560-717e-4ff0-8ce1-db82eb4ea5a2",
   "metadata": {},
   "source": [
    "$g(\\theta) = p(1-p)$\n",
    "\n",
    "$g'(\\theta) = 1-2p$"
   ]
  },
  {
   "cell_type": "markdown",
   "id": "5c91a16b-6417-4fba-a5fc-15d90fcb2ceb",
   "metadata": {},
   "source": [
    "$I(p) = p(1-p)$"
   ]
  },
  {
   "cell_type": "markdown",
   "id": "ac41732f-f1f8-4c17-8106-268e9c13a03a",
   "metadata": {},
   "source": [
    "$f(x) = p^x(1-p)^{1-x}$\n",
    "\n",
    "$I(p) = E(\\dfrac{df(x)}{dp} log f(x))^2$\n",
    "\n"
   ]
  },
  {
   "cell_type": "markdown",
   "id": "10561e1c-f0aa-4a10-ab86-ec49b145efe4",
   "metadata": {},
   "source": [
    "$log f(x) = x log p + (1-x) log (1-p)$"
   ]
  },
  {
   "cell_type": "markdown",
   "id": "ed65b496-97a5-4573-a287-31db17f8dfe5",
   "metadata": {},
   "source": [
    "미분하면 $\\dfrac{x}{p} - \\dfrac{1-x}{1-p} = \\dfrac{x-p}{p(1-p)}$"
   ]
  },
  {
   "cell_type": "markdown",
   "id": "d6088dec-4f2f-48cf-86ed-093316f65e5a",
   "metadata": {},
   "source": [
    "$I(p) = E(\\dfrac{(x-p)^2}{(p(1-p))^2}= \\dfrac{Var(X)}{(p(1-p))^2}=\\dfrac{1}{p(1-p)}$"
   ]
  },
  {
   "cell_type": "markdown",
   "id": "58cda1df-25d3-4b2e-8952-55e17bd73393",
   "metadata": {},
   "source": [
    "$\\because Var(X) = p(1-p)$"
   ]
  },
  {
   "cell_type": "code",
   "execution_count": null,
   "id": "19164c38-84cc-4f65-ac3f-ae0d9b4a5c69",
   "metadata": {},
   "outputs": [],
   "source": []
  }
 ],
 "metadata": {
  "kernelspec": {
   "display_name": "Python 3 (ipykernel)",
   "language": "python",
   "name": "python3"
  },
  "language_info": {
   "codemirror_mode": {
    "name": "ipython",
    "version": 3
   },
   "file_extension": ".py",
   "mimetype": "text/x-python",
   "name": "python",
   "nbconvert_exporter": "python",
   "pygments_lexer": "ipython3",
   "version": "3.8.18"
  }
 },
 "nbformat": 4,
 "nbformat_minor": 5
}
