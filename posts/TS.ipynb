{
 "cells": [
  {
   "cell_type": "raw",
   "id": "7850df59-b5de-4431-aae4-b30662a6b482",
   "metadata": {},
   "source": [
    "---\n",
    "title: \"TS_23.8\"\n",
    "author: \"김보람\"\n",
    "date: \"02/26/2024\"\n",
    "---"
   ]
  },
  {
   "cell_type": "markdown",
   "id": "c84145b0-eade-4f21-8b47-c2a16d9b5c3a",
   "metadata": {},
   "source": [
    "# 1"
   ]
  },
  {
   "cell_type": "markdown",
   "id": "3832fbcc-7a63-4f1d-818a-7acfc32c9cc1",
   "metadata": {},
   "source": [
    "$X_1, X_2, \\dots, X_n$는 확률밀도함수 $f(x) = \\dfrac{1}{\\lambda}e^{-x/\\lambda}I(x>0)$를 가지는 모집단으로부터의 랜덤표본이라고 할 때"
   ]
  },
  {
   "cell_type": "markdown",
   "id": "0951ac87-5e9d-43c0-b848-ceba2d47e316",
   "metadata": {},
   "source": [
    "## (1)"
   ]
  },
  {
   "cell_type": "markdown",
   "id": "7e685d53-6400-49e8-96a5-cb1889de8804",
   "metadata": {},
   "source": [
    "$T = X_1 + X_2 + \\dots + X_n$라고 할 때 $T$의 평균과 분산"
   ]
  },
  {
   "cell_type": "markdown",
   "id": "68e9b402-908c-4786-b6cc-9d1713dad8b0",
   "metadata": {},
   "source": [
    "$T=\\sum X_i$\n",
    "\n",
    "$E(T) = n\\lambda$\n",
    "\n",
    "$Var(T) = n \\lambda^2$"
   ]
  },
  {
   "cell_type": "markdown",
   "id": "c15c0330-0f2e-4aca-9a4c-5de88bdecb50",
   "metadata": {},
   "source": [
    "## (2)"
   ]
  },
  {
   "cell_type": "markdown",
   "id": "b1838600-af4d-413a-bc90-491c65db9e24",
   "metadata": {},
   "source": [
    "$\\lambda$의 최대가능도추정량 MLE $\\hat \\lambda_n$을 유도하시오"
   ]
  },
  {
   "cell_type": "markdown",
   "id": "ceb18a84-f56f-469c-a90e-6830ec1ed145",
   "metadata": {},
   "source": [
    "$f(x:\\lambda) = \\Pi_{i=1}^n \\dfrac{1}{\\lambda} e^{-x_i/\\lambda} I(x> 0)$"
   ]
  },
  {
   "cell_type": "markdown",
   "id": "4752397c-d62e-4edc-9573-51eb0887aea4",
   "metadata": {},
   "source": [
    "=$(\\dfrac{1}{\\lambda})^n e^{\\sum_{i=0}^n (-x_i / \\lambda)}I(x>0)$"
   ]
  },
  {
   "cell_type": "markdown",
   "id": "7a94b8e2-cd6a-4100-a049-27b20b931908",
   "metadata": {},
   "source": [
    "$l(\\lambda) = -nlog \\lambda - \\dfrac{\\sum_{i=0}^n x}{\\lambda}$"
   ]
  },
  {
   "cell_type": "markdown",
   "id": "a645f168-4638-4ec8-b32a-1aa54367a2b9",
   "metadata": {},
   "source": [
    "$l'(\\lambda) = -\\dfrac{n}{\\lambda} + \\dfrac{\\sum_{i=0}^n x}{\\lambda^2}=0$"
   ]
  },
  {
   "cell_type": "markdown",
   "id": "cabaca02-7993-45d9-80cf-5b4ab918117b",
   "metadata": {},
   "source": [
    "$\\lambda n = \\sum x$"
   ]
  },
  {
   "cell_type": "markdown",
   "id": "6c071d93-8b1b-47ea-b756-691f72743161",
   "metadata": {},
   "source": [
    "$\\hat \\lambda = \\dfrac{\\sum x}{n} = \\bar x$"
   ]
  },
  {
   "cell_type": "markdown",
   "id": "11d93256-40cd-44ca-ad99-8122ecf826b6",
   "metadata": {},
   "source": [
    "원래는 $l''(\\lambda) < 0$인지 확인해야함. (볼록함수)"
   ]
  },
  {
   "cell_type": "markdown",
   "id": "ed4ab7a0-7d15-4325-a04d-8948dab4df1f",
   "metadata": {},
   "source": [
    "## (3)"
   ]
  },
  {
   "cell_type": "markdown",
   "id": "27a22848-7471-4f1d-92d5-28ca172ed986",
   "metadata": {},
   "source": [
    "$\\hat \\lambda_n^*$과 다른 추정량을 제시하고, 어느 추정량이 좋은지 그 판단의 근거를 간단히 기술하시오"
   ]
  },
  {
   "cell_type": "markdown",
   "id": "e42097b8-71d4-4c0c-8b60-a51c4d4ad3e9",
   "metadata": {},
   "source": [
    "적률추정량?"
   ]
  },
  {
   "cell_type": "markdown",
   "id": "66446194-991a-4a8f-a54f-2e0ede01d687",
   "metadata": {},
   "source": [
    "$\\mu_1  = E(x) = \\int xf(x)dx= \\int x \\dfrac{1}{\\lambda}e^{-x/\\lambda}I(x>0)=\\hat \\lambda$"
   ]
  },
  {
   "cell_type": "markdown",
   "id": "ed472f46-e372-403f-b51f-4ce35b5797cf",
   "metadata": {},
   "source": [
    "$\\hat \\lambda_n^* = \\bar X$ "
   ]
  },
  {
   "cell_type": "markdown",
   "id": "f987a065-bd14-4c1b-b93b-4c1452b1668e",
   "metadata": {},
   "source": [
    "MLE와 MME 중에서 어떤 것이 더 좋은지 판단하기 위해서는 추정량의 편향성, 효율성, 일치성 드응ㄹ 평가해야 한다. 표본 크기에 따른 추정량의 성능도 비교해야한다. 크기가 크고 모집단이 지수분포와 유사한 경우에 MLE추정량이 더 효율적이고 일치성을 보장하는 경향이 있다."
   ]
  },
  {
   "cell_type": "markdown",
   "id": "a2cb0982-1dc8-4c25-928c-a6dd753775ee",
   "metadata": {},
   "source": [
    "## (4)"
   ]
  },
  {
   "cell_type": "markdown",
   "id": "0cacae6e-cf9c-4c86-9f5d-729ad86159c4",
   "metadata": {},
   "source": [
    "$\\hat \\lambda_n$의 기댓값"
   ]
  },
  {
   "cell_type": "markdown",
   "id": "69285472-d4ed-4db2-8bf2-17063a643821",
   "metadata": {},
   "source": [
    "$E(\\hat \\lambda_n) = E(\\bar X) = \\dfrac{1}{n}E(X_1+ \\dots + X_n) = \\dfrac{1}{n} n \\lambda = \\lambda$ "
   ]
  },
  {
   "cell_type": "markdown",
   "id": "6050b703-f643-49a4-bec8-1e45f41dcf0e",
   "metadata": {},
   "source": [
    "## (5)"
   ]
  },
  {
   "cell_type": "markdown",
   "id": "658d1282-dad8-48a7-8eef-3e25e4992192",
   "metadata": {},
   "source": [
    "$\\hat \\lambda_n$는 일치추정량 여부를 판단하고, 그 이유를 기술"
   ]
  },
  {
   "cell_type": "markdown",
   "id": "c44befef-c574-480c-87fb-0d87bb706865",
   "metadata": {},
   "source": [
    "$E(\\hat \\lambda_n) = \\lambda$이면 일치추정량"
   ]
  },
  {
   "cell_type": "markdown",
   "id": "5641d853-d425-4a9e-a3be-77d2d4a1c579",
   "metadata": {},
   "source": [
    "(4)에서 기댓값이 $\\lambda$이므로 일치추정량이당"
   ]
  },
  {
   "cell_type": "markdown",
   "id": "6b798b03-35e3-4581-9617-48306d3e3ac5",
   "metadata": {},
   "source": [
    "## (6)"
   ]
  },
  {
   "cell_type": "markdown",
   "id": "d797c229-af59-45cd-85e1-f1c94884a647",
   "metadata": {},
   "source": [
    "$\\hat \\lambda_n$의 점근분포를 구체적으로 기술"
   ]
  },
  {
   "cell_type": "markdown",
   "id": "25995203-1cdb-4fa9-88ef-799c70799823",
   "metadata": {},
   "source": [
    "$\\sqrt{n}(\\hat \\lambda_n - \\lambda ) \\rightarrow N(0,\\dfrac{1}{I(\\lambda)})$"
   ]
  },
  {
   "cell_type": "markdown",
   "id": "2942c99a-3543-4deb-80b1-6114e85de02e",
   "metadata": {},
   "source": [
    "## (7)"
   ]
  },
  {
   "cell_type": "markdown",
   "id": "aabb4965-7297-491e-afe9-a188d684e150",
   "metadata": {},
   "source": [
    "가설 $H_0: \\lambda= 1, \\text{vs} \\ H_1: \\lambda \\neq 1$을 가능도비 검정법으로 검정하시오"
   ]
  },
  {
   "cell_type": "markdown",
   "id": "b6034a96-ede7-48a8-bc99-101d3797d0b2",
   "metadata": {},
   "source": [
    "$\\Lambda =\\dfrac{L(\\lambda^*)}{L(\\lambda)}$"
   ]
  },
  {
   "cell_type": "markdown",
   "id": "7ae2c8c9-1c8b-439e-b6c8-6ad4bcf6237e",
   "metadata": {},
   "source": [
    "$L(\\lambda^*) = \\Pi_{i=1}^n \\dfrac{1}{1}e^{-x_i/1}=e^{-\\sum_{i=1}^n x_i}$"
   ]
  },
  {
   "cell_type": "markdown",
   "id": "89560282-bd92-4237-b4b6-c34083f5b927",
   "metadata": {},
   "source": [
    "$L(\\lambda) = \\Pi_{i=1}^n \\dfrac{1}{ \\bar X} e^{-x_i/\\bar X} = \\dfrac{1}{\\bar X^n} e^{-\\dfrac{\\sum_{i=1}^n x_i}{\\bar X}}=\\dfrac{1}{\\bar X^n} e^{-n}$"
   ]
  },
  {
   "cell_type": "markdown",
   "id": "b129d7bf-5da1-48d0-975e-33bfc97db752",
   "metadata": {},
   "source": [
    "$\\Lambda = \\dfrac{e^{-\\sum_{i=1}^n x_i}}{\\dfrac{1}{\\bar X^n} e^{-n}}=\\bar X^n e^{- \\bar X}$"
   ]
  },
  {
   "cell_type": "markdown",
   "id": "15667c84-7509-4815-b624-0ab9eb4da148",
   "metadata": {},
   "source": [
    "$-2log(\\Lambda) = nlog(\\bar X) - \\bar X < log C$"
   ]
  },
  {
   "cell_type": "markdown",
   "id": "abd97d96-24d8-449e-be53-6e543cc6f417",
   "metadata": {},
   "source": [
    "= $log(\\bar X) - \\dfrac{\\bar X}{n} < \\dfrac{logC}{n}$"
   ]
  },
  {
   "cell_type": "markdown",
   "id": "803d6077-a70a-4e25-bdfc-1a2f323e224c",
   "metadata": {},
   "source": [
    "= $log(\\dfrac{\\bar X}{e^{(\\bar X/n)}}) < \\dfrac{logC}{n}$"
   ]
  },
  {
   "cell_type": "markdown",
   "id": "5ca03f35-4e95-4f37-ae1c-33269d68d92e",
   "metadata": {},
   "source": [
    "$=\\dfrac{\\bar X}{e^{(\\bar X / n)}} < C'$"
   ]
  },
  {
   "cell_type": "markdown",
   "id": "36a624b4-06cd-4846-8baf-4598bb673e51",
   "metadata": {},
   "source": [
    "이것이..기각역?"
   ]
  },
  {
   "cell_type": "code",
   "execution_count": null,
   "id": "38eaad10-11b3-4fc2-8bc1-7a45dc10ba26",
   "metadata": {},
   "outputs": [],
   "source": []
  }
 ],
 "metadata": {
  "kernelspec": {
   "display_name": "Python 3 (ipykernel)",
   "language": "python",
   "name": "python3"
  },
  "language_info": {
   "codemirror_mode": {
    "name": "ipython",
    "version": 3
   },
   "file_extension": ".py",
   "mimetype": "text/x-python",
   "name": "python",
   "nbconvert_exporter": "python",
   "pygments_lexer": "ipython3",
   "version": "3.8.18"
  }
 },
 "nbformat": 4,
 "nbformat_minor": 5
}
